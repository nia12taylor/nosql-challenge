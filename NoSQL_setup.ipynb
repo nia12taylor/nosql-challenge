{
 "cells": [
  {
   "attachments": {},
   "cell_type": "markdown",
   "metadata": {},
   "source": [
    "# Eat Safe, Love"
   ]
  },
  {
   "attachments": {},
   "cell_type": "markdown",
   "metadata": {},
   "source": [
    "## Part 1: Database and Jupyter Notebook Set Up"
   ]
  },
  {
   "attachments": {},
   "cell_type": "markdown",
   "metadata": {},
   "source": [
    "Terminal command to import the dataset: `mongoimport --type json -d uk_food -c establishments --drop --jsonArray establishments.json`\n",
    "\n",
    "Inline command to import the dataset: `!mongoimport --type json -d uk_food -c establishments --drop --jsonArray Resources/establishments.json`"
   ]
  },
  {
   "cell_type": "code",
   "execution_count": 1,
   "metadata": {},
   "outputs": [
    {
     "name": "stderr",
     "output_type": "stream",
     "text": [
      "2023-05-20T11:51:56.448-0700\tconnected to: mongodb://localhost/\n",
      "2023-05-20T11:51:56.451-0700\tdropping: uk_food.establishments\n",
      "2023-05-20T11:51:59.448-0700\t[##############..........] uk_food.establishments\t24.1MB/39.3MB (61.3%)\n",
      "2023-05-20T11:52:01.434-0700\t[########################] uk_food.establishments\t39.3MB/39.3MB (100.0%)\n",
      "2023-05-20T11:52:01.434-0700\t39779 document(s) imported successfully. 0 document(s) failed to import.\n"
     ]
    }
   ],
   "source": [
    "# Import the dataset\n",
    "!mongoimport --type json -d uk_food -c establishments --drop --jsonArray Resources/establishments.json"
   ]
  },
  {
   "cell_type": "code",
   "execution_count": 2,
   "metadata": {},
   "outputs": [],
   "source": [
    "# Import dependencies\n",
    "from pymongo import MongoClient\n",
    "from pprint import pprint"
   ]
  },
  {
   "cell_type": "code",
   "execution_count": 3,
   "metadata": {},
   "outputs": [],
   "source": [
    "# Create an instance of MongoClient\n",
    "mongo = MongoClient(port=27017)"
   ]
  },
  {
   "cell_type": "code",
   "execution_count": 4,
   "metadata": {},
   "outputs": [
    {
     "name": "stdout",
     "output_type": "stream",
     "text": [
      "['admin', 'autosaurus', 'classDB', 'config', 'gardenDB', 'local', 'met', 'uk_food']\n",
      "--------------------\n",
      "Database found: uk_food\n"
     ]
    }
   ],
   "source": [
    "# Confirm presence of new database\n",
    "db_names = mongo.list_database_names()\n",
    "\n",
    "db_to_check = \"uk_food\"\n",
    "\n",
    "print(db_names)\n",
    "\n",
    "print(\"-\"*20)\n",
    "\n",
    "if db_to_check in db_names:\n",
    "    print(f\"Database found: {db_to_check}\")\n",
    "    \n",
    "else:\n",
    "    print(\"Database not found\")"
   ]
  },
  {
   "cell_type": "code",
   "execution_count": 5,
   "metadata": {},
   "outputs": [],
   "source": [
    "# Assign new database to a variable\n",
    "db = mongo[\"uk_food\"]"
   ]
  },
  {
   "cell_type": "code",
   "execution_count": 6,
   "metadata": {},
   "outputs": [
    {
     "data": {
      "text/plain": [
       "['establishments']"
      ]
     },
     "execution_count": 6,
     "metadata": {},
     "output_type": "execute_result"
    }
   ],
   "source": [
    "# List the collections in the new database\n",
    "db.list_collection_names()"
   ]
  },
  {
   "cell_type": "code",
   "execution_count": 7,
   "metadata": {},
   "outputs": [
    {
     "name": "stdout",
     "output_type": "stream",
     "text": [
      "{'AddressLine1': 'The Pines Garden',\n",
      " 'AddressLine2': 'Beach Road',\n",
      " 'AddressLine3': 'St Margarets Bay',\n",
      " 'AddressLine4': 'Kent',\n",
      " 'BusinessName': 'The Tea Room',\n",
      " 'BusinessType': 'Restaurant/Cafe/Canteen',\n",
      " 'BusinessTypeID': 1,\n",
      " 'ChangesByServerID': 0,\n",
      " 'Distance': 4587.362402580997,\n",
      " 'FHRSID': 551803,\n",
      " 'LocalAuthorityBusinessID': 'PI/000070948',\n",
      " 'LocalAuthorityCode': '182',\n",
      " 'LocalAuthorityEmailAddress': 'publicprotection@dover.gov.uk',\n",
      " 'LocalAuthorityName': 'Dover',\n",
      " 'LocalAuthorityWebSite': 'http://www.dover.gov.uk/',\n",
      " 'NewRatingPending': False,\n",
      " 'Phone': '',\n",
      " 'PostCode': 'CT15 6DZ',\n",
      " 'RatingDate': '2021-08-17T00:00:00',\n",
      " 'RatingKey': 'fhrs_5_en-gb',\n",
      " 'RatingValue': '5',\n",
      " 'RightToReply': '',\n",
      " 'SchemeType': 'FHRS',\n",
      " '_id': ObjectId('646916cce3d80959eab93707'),\n",
      " 'geocode': {'latitude': '51.148133', 'longitude': '1.383298'},\n",
      " 'links': [{'href': 'https://api.ratings.food.gov.uk/establishments/551803',\n",
      "            'rel': 'self'}],\n",
      " 'meta': {'dataSource': None,\n",
      "          'extractDate': '0001-01-01T00:00:00',\n",
      "          'itemCount': 0,\n",
      "          'pageNumber': 0,\n",
      "          'pageSize': 0,\n",
      "          'returncode': None,\n",
      "          'totalCount': 0,\n",
      "          'totalPages': 0},\n",
      " 'scores': {'ConfidenceInManagement': 0, 'Hygiene': 0, 'Structural': 0}}\n"
     ]
    }
   ],
   "source": [
    "# Print a document from the establishments collection\n",
    "one_doc = db.establishments.find_one()\n",
    "pprint(one_doc)"
   ]
  },
  {
   "cell_type": "code",
   "execution_count": 8,
   "metadata": {},
   "outputs": [],
   "source": [
    "# Assign the collection to a variable\n",
    "establishments = db[\"establishments\"]"
   ]
  },
  {
   "attachments": {},
   "cell_type": "markdown",
   "metadata": {},
   "source": [
    "# Part 2: Update the Database"
   ]
  },
  {
   "attachments": {},
   "cell_type": "markdown",
   "metadata": {},
   "source": [
    "Insert the new halal restaurant \"Penang Flavours\" into the database."
   ]
  },
  {
   "cell_type": "code",
   "execution_count": 9,
   "metadata": {},
   "outputs": [],
   "source": [
    "# Create a dictionary for the new restaurant\n",
    "penang_dict = {\"BusinessName\":\"Penang Flavours\",\n",
    "               \"BusinessType\":\"Restaurant/Cafe/Canteen\",\n",
    "               \"BusinessTypeID\":\"\",\n",
    "               \"AddressLine1\":\"Penang Flavours\",\n",
    "               \"AddressLine2\":\"146A Plumstead Rd\",\n",
    "               \"AddressLine3\":\"London\",\n",
    "               \"AddressLine4\":\"\",\n",
    "               \"PostCode\":\"SE18 7DY\",\n",
    "               \"Phone\":\"\",\n",
    "               \"LocalAuthorityCode\":\"511\",\n",
    "               \"LocalAuthorityName\":\"Greenwich\",\n",
    "               \"LocalAuthorityWebSite\":\"http://www.royalgreenwich.gov.uk\",\n",
    "               \"LocalAuthorityEmailAddress\":\"health@royalgreenwich.gov.uk\",\n",
    "               \"scores\":{\"Hygiene\":\"\",\n",
    "                         \"Structural\":\"\",\n",
    "                         \"ConfidenceInManagement\":\"\"},\n",
    "               \"SchemeType\":\"FHRS\",\n",
    "               \"geocode\":{\"longitude\":\"0.08384000\",\n",
    "                          \"latitude\":\"51.49014200\"},\n",
    "               \"RightToReply\":\"\",\n",
    "               \"Distance\":4623.9723280747176,\n",
    "               \"NewRatingPending\":True}"
   ]
  },
  {
   "cell_type": "code",
   "execution_count": 10,
   "metadata": {},
   "outputs": [
    {
     "data": {
      "text/plain": [
       "<pymongo.results.InsertOneResult at 0x2a11a814680>"
      ]
     },
     "execution_count": 10,
     "metadata": {},
     "output_type": "execute_result"
    }
   ],
   "source": [
    "# Insert the new restaurant into the collection\n",
    "establishments.insert_one(penang_dict)"
   ]
  },
  {
   "cell_type": "code",
   "execution_count": 11,
   "metadata": {},
   "outputs": [
    {
     "name": "stdout",
     "output_type": "stream",
     "text": [
      "{'AddressLine1': 'Penang Flavours',\n",
      " 'AddressLine2': '146A Plumstead Rd',\n",
      " 'AddressLine3': 'London',\n",
      " 'AddressLine4': '',\n",
      " 'BusinessName': 'Penang Flavours',\n",
      " 'BusinessType': 'Restaurant/Cafe/Canteen',\n",
      " 'BusinessTypeID': '',\n",
      " 'Distance': 4623.972328074718,\n",
      " 'LocalAuthorityCode': '511',\n",
      " 'LocalAuthorityEmailAddress': 'health@royalgreenwich.gov.uk',\n",
      " 'LocalAuthorityName': 'Greenwich',\n",
      " 'LocalAuthorityWebSite': 'http://www.royalgreenwich.gov.uk',\n",
      " 'NewRatingPending': True,\n",
      " 'Phone': '',\n",
      " 'PostCode': 'SE18 7DY',\n",
      " 'RightToReply': '',\n",
      " 'SchemeType': 'FHRS',\n",
      " '_id': ObjectId('646916d36f66d8fdd8261174'),\n",
      " 'geocode': {'latitude': '51.49014200', 'longitude': '0.08384000'},\n",
      " 'scores': {'ConfidenceInManagement': '', 'Hygiene': '', 'Structural': ''}}\n"
     ]
    }
   ],
   "source": [
    "# Confirm insertion\n",
    "query = {\"BusinessName\": \"Penang Flavours\"}\n",
    "\n",
    "results = establishments.find_one(query)\n",
    "\n",
    "pprint(results)"
   ]
  },
  {
   "attachments": {},
   "cell_type": "markdown",
   "metadata": {},
   "source": [
    "2. Find the BusinessTypeID for \"Restaurant/Cafe/Canteen\" and return the `BusinessTypeID` and `BusinessType` fields."
   ]
  },
  {
   "cell_type": "code",
   "execution_count": 12,
   "metadata": {},
   "outputs": [
    {
     "name": "stdout",
     "output_type": "stream",
     "text": [
      "{'BusinessType': 'Restaurant/Cafe/Canteen',\n",
      " 'BusinessTypeID': 1,\n",
      " '_id': ObjectId('646916cce3d80959eab93707')}\n"
     ]
    }
   ],
   "source": [
    "# Find the BusinessTypeID for \"Restaurant/Cafe/Canteen\"\n",
    "query = {\"BusinessType\":\"Restaurant/Cafe/Canteen\"}\n",
    "\n",
    "fields = {\"BusinessType\":1,\n",
    "          \"BusinessTypeID\":1}\n",
    "\n",
    "results = establishments.find_one(query,fields)\n",
    "\n",
    "pprint(results)\n",
    "\n",
    "# Save the BusinessTypeID to a variable\n",
    "business_type_id = results[\"BusinessTypeID\"]"
   ]
  },
  {
   "attachments": {},
   "cell_type": "markdown",
   "metadata": {},
   "source": [
    "3. Update the new restaurant's `BusinessTypeID`"
   ]
  },
  {
   "cell_type": "code",
   "execution_count": 13,
   "metadata": {},
   "outputs": [
    {
     "name": "stdout",
     "output_type": "stream",
     "text": [
      "{'BusinessTypeID': '', '_id': ObjectId('646916d36f66d8fdd8261174')}\n"
     ]
    }
   ],
   "source": [
    "# Check the new restaurant's BusinessTypeID\n",
    "query = {\"BusinessName\":\"Penang Flavours\"}\n",
    "\n",
    "fields = {\"BusinessTypeID\":1}\n",
    "\n",
    "results = establishments.find_one(query,fields)\n",
    "\n",
    "pprint(results)"
   ]
  },
  {
   "cell_type": "code",
   "execution_count": 14,
   "metadata": {},
   "outputs": [
    {
     "data": {
      "text/plain": [
       "<pymongo.results.UpdateResult at 0x2a11c577840>"
      ]
     },
     "execution_count": 14,
     "metadata": {},
     "output_type": "execute_result"
    }
   ],
   "source": [
    "# Update the new restaurant's BusinessTypeID\n",
    "query = {\"BusinessName\":\"Penang Flavours\"}\n",
    "\n",
    "fields = {\"$set\":{\"BusinessTypeID\":business_type_id}}\n",
    "\n",
    "establishments.update_one(query,fields)"
   ]
  },
  {
   "cell_type": "code",
   "execution_count": 15,
   "metadata": {},
   "outputs": [
    {
     "name": "stdout",
     "output_type": "stream",
     "text": [
      "{'BusinessTypeID': 1, '_id': ObjectId('646916d36f66d8fdd8261174')}\n"
     ]
    }
   ],
   "source": [
    "# Confirm the update\n",
    "query = {\"BusinessName\":\"Penang Flavours\"}\n",
    "\n",
    "fields = {\"BusinessTypeID\":1}\n",
    "\n",
    "results = establishments.find_one(query,fields)\n",
    "\n",
    "pprint(results)"
   ]
  },
  {
   "attachments": {},
   "cell_type": "markdown",
   "metadata": {},
   "source": [
    "4. Remove any establishments within the Dover Local Authority from the database"
   ]
  },
  {
   "cell_type": "code",
   "execution_count": 16,
   "metadata": {},
   "outputs": [
    {
     "data": {
      "text/plain": [
       "994"
      ]
     },
     "execution_count": 16,
     "metadata": {},
     "output_type": "execute_result"
    }
   ],
   "source": [
    "# Count the documents with LocalAuthorityName Dover\n",
    "query = {\"LocalAuthorityName\":\"Dover\"}\n",
    "establishments.count_documents(query)"
   ]
  },
  {
   "cell_type": "code",
   "execution_count": 17,
   "metadata": {},
   "outputs": [
    {
     "data": {
      "text/plain": [
       "<pymongo.results.DeleteResult at 0x2a11c5a8e00>"
      ]
     },
     "execution_count": 17,
     "metadata": {},
     "output_type": "execute_result"
    }
   ],
   "source": [
    "# Delete documents with LocalAuthorityName Dover\n",
    "query = {\"LocalAuthorityName\":\"Dover\"}\n",
    "establishments.delete_many(query)"
   ]
  },
  {
   "cell_type": "code",
   "execution_count": 18,
   "metadata": {},
   "outputs": [
    {
     "data": {
      "text/plain": [
       "0"
      ]
     },
     "execution_count": 18,
     "metadata": {},
     "output_type": "execute_result"
    }
   ],
   "source": [
    "# Confirm deletion\n",
    "query = {\"LocalAuthorityName\":\"Dover\"}\n",
    "establishments.count_documents(query)"
   ]
  },
  {
   "cell_type": "code",
   "execution_count": 19,
   "metadata": {},
   "outputs": [
    {
     "name": "stdout",
     "output_type": "stream",
     "text": [
      "{'AddressLine1': 'East Cliff Pavilion',\n",
      " 'AddressLine2': 'Wear Bay Road',\n",
      " 'AddressLine3': 'Folkestone',\n",
      " 'AddressLine4': 'Kent',\n",
      " 'BusinessName': 'The Pavilion',\n",
      " 'BusinessType': 'Restaurant/Cafe/Canteen',\n",
      " 'BusinessTypeID': 1,\n",
      " 'ChangesByServerID': 0,\n",
      " 'Distance': 4591.765489457773,\n",
      " 'FHRSID': 1043695,\n",
      " 'LocalAuthorityBusinessID': 'PI/000073616',\n",
      " 'LocalAuthorityCode': '188',\n",
      " 'LocalAuthorityEmailAddress': 'foodteam@folkestone-hythe.gov.uk',\n",
      " 'LocalAuthorityName': 'Folkestone and Hythe',\n",
      " 'LocalAuthorityWebSite': 'http://www.folkestone-hythe.gov.uk',\n",
      " 'NewRatingPending': False,\n",
      " 'Phone': '',\n",
      " 'PostCode': 'CT19 6BL',\n",
      " 'RatingDate': '2018-04-04T00:00:00',\n",
      " 'RatingKey': 'fhrs_5_en-gb',\n",
      " 'RatingValue': '5',\n",
      " 'RightToReply': '',\n",
      " 'SchemeType': 'FHRS',\n",
      " '_id': ObjectId('646916cce3d80959eab939ec'),\n",
      " 'geocode': {'latitude': '51.083812', 'longitude': '1.195625'},\n",
      " 'links': [{'href': 'https://api.ratings.food.gov.uk/establishments/1043695',\n",
      "            'rel': 'self'}],\n",
      " 'meta': {'dataSource': None,\n",
      "          'extractDate': '0001-01-01T00:00:00',\n",
      "          'itemCount': 0,\n",
      "          'pageNumber': 0,\n",
      "          'pageSize': 0,\n",
      "          'returncode': None,\n",
      "          'totalCount': 0,\n",
      "          'totalPages': 0},\n",
      " 'scores': {'ConfidenceInManagement': 5, 'Hygiene': 5, 'Structural': 5}}\n"
     ]
    }
   ],
   "source": [
    "# Verify that non Dover documents are still present\n",
    "result = establishments.find_one()\n",
    "pprint(result)"
   ]
  },
  {
   "attachments": {},
   "cell_type": "markdown",
   "metadata": {},
   "source": [
    "5. Update data types"
   ]
  },
  {
   "attachments": {},
   "cell_type": "markdown",
   "metadata": {},
   "source": [
    "Convert `latitude` and `longitude` to decimal numbers."
   ]
  },
  {
   "cell_type": "code",
   "execution_count": 20,
   "metadata": {},
   "outputs": [
    {
     "name": "stdout",
     "output_type": "stream",
     "text": [
      "'string'\n",
      "'string'\n"
     ]
    }
   ],
   "source": [
    "# Check the data types for latitude and longitude\n",
    "query = {}\n",
    "\n",
    "check = {\"geocode.latitude\":{\"$type\":\"$geocode.latitude\"},\n",
    "         \"geocode.longitude\":{\"$type\":\"$geocode.longitude\"}}\n",
    "\n",
    "results = establishments.find_one(query,check)\n",
    "\n",
    "latitude_type = results[\"geocode\"][\"latitude\"]\n",
    "longitude_type = results[\"geocode\"][\"longitude\"]\n",
    "\n",
    "pprint(latitude_type)\n",
    "pprint(longitude_type)"
   ]
  },
  {
   "cell_type": "code",
   "execution_count": 21,
   "metadata": {},
   "outputs": [
    {
     "data": {
      "text/plain": [
       "<pymongo.results.UpdateResult at 0x2a11c5c6c00>"
      ]
     },
     "execution_count": 21,
     "metadata": {},
     "output_type": "execute_result"
    }
   ],
   "source": [
    "# Convert latitude and longitude to double\n",
    "query = {}\n",
    "\n",
    "update = [{\"$set\":{\"geocode.latitude\":{\"$toDouble\":\"$geocode.latitude\"},\n",
    "                   \"geocode.longitude\":{\"$toDouble\":\"$geocode.longitude\"}}}]\n",
    "\n",
    "establishments.update_many(query,update)"
   ]
  },
  {
   "attachments": {},
   "cell_type": "markdown",
   "metadata": {},
   "source": [
    "Convert `RatingValue` to integer."
   ]
  },
  {
   "cell_type": "code",
   "execution_count": 22,
   "metadata": {},
   "outputs": [
    {
     "name": "stdout",
     "output_type": "stream",
     "text": [
      "'string'\n"
     ]
    }
   ],
   "source": [
    "# Check the data type for RatingValue\n",
    "query = {}\n",
    "\n",
    "check = {\"RatingValue\":{\"$type\":\"$RatingValue\"}}\n",
    "\n",
    "results = establishments.find_one(query,check)\n",
    "\n",
    "rating_value_type = results[\"RatingValue\"]\n",
    "\n",
    "pprint(rating_value_type)"
   ]
  },
  {
   "cell_type": "code",
   "execution_count": 23,
   "metadata": {},
   "outputs": [
    {
     "data": {
      "text/plain": [
       "<pymongo.results.UpdateResult at 0x2a11c5a8dc0>"
      ]
     },
     "execution_count": 23,
     "metadata": {},
     "output_type": "execute_result"
    }
   ],
   "source": [
    "# Set non 1-5 Rating Values to Null\n",
    "non_ratings = [\"AwaitingInspection\",\n",
    "               \"Awaiting Inspection\",\n",
    "               \"AwaitingPublication\",\n",
    "               \"Pass\",\n",
    "               \"Exempt\"]\n",
    "\n",
    "query = {\"RatingValue\":{\"$in\":non_ratings}}\n",
    "\n",
    "update = [{\"$set\":{\"RatingValue\":None}}]\n",
    "\n",
    "establishments.update_many(query,update)"
   ]
  },
  {
   "cell_type": "code",
   "execution_count": 24,
   "metadata": {},
   "outputs": [
    {
     "data": {
      "text/plain": [
       "<pymongo.results.UpdateResult at 0x2a11c5d1b80>"
      ]
     },
     "execution_count": 24,
     "metadata": {},
     "output_type": "execute_result"
    }
   ],
   "source": [
    "# Convert RatingValue to integer\n",
    "query = {}\n",
    "\n",
    "update = [{\"$set\":{\"RatingValue\":{\"$toInt\":\"$RatingValue\"}}}]\n",
    "\n",
    "establishments.update_many(query,update)"
   ]
  },
  {
   "attachments": {},
   "cell_type": "markdown",
   "metadata": {},
   "source": [
    "Check the data types for `latitude`, `longitude`, and `RatingValue`"
   ]
  },
  {
   "cell_type": "code",
   "execution_count": 25,
   "metadata": {},
   "outputs": [
    {
     "name": "stdout",
     "output_type": "stream",
     "text": [
      "'double'\n",
      "'double'\n",
      "'int'\n"
     ]
    }
   ],
   "source": [
    "# Confirm the data type updates\n",
    "query = {}\n",
    "\n",
    "check = {\"geocode.latitude\":{\"$type\":\"$geocode.latitude\"},\n",
    "         \"geocode.longitude\":{\"$type\":\"$geocode.longitude\"},\n",
    "         \"RatingValue\":{\"$type\":\"$RatingValue\"}}\n",
    "\n",
    "results = establishments.find_one(query,check)\n",
    "\n",
    "latitude_type = results[\"geocode\"][\"latitude\"]\n",
    "longitude_type = results[\"geocode\"][\"longitude\"]\n",
    "rating_value_type = results[\"RatingValue\"]\n",
    "\n",
    "pprint(latitude_type)\n",
    "pprint(longitude_type)\n",
    "pprint(rating_value_type)"
   ]
  }
 ],
 "metadata": {
  "kernelspec": {
   "display_name": "PythonData",
   "language": "python",
   "name": "python3"
  },
  "language_info": {
   "codemirror_mode": {
    "name": "ipython",
    "version": 3
   },
   "file_extension": ".py",
   "mimetype": "text/x-python",
   "name": "python",
   "nbconvert_exporter": "python",
   "pygments_lexer": "ipython3",
   "version": "3.10.11"
  },
  "orig_nbformat": 4
 },
 "nbformat": 4,
 "nbformat_minor": 2
}
